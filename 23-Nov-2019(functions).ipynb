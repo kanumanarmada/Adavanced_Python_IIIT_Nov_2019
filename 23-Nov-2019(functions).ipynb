{
 "cells": [
  {
   "cell_type": "markdown",
   "metadata": {},
   "source": [
    "> * Day 1: Functions,Modules,Packages\n",
    "> * Day 2: Inbuilt Packages\n",
    "> * Day 3: Numpy\n",
    "> * Day 4: Pandas\n",
    "> * Day 5: Matplotlib,Seaborn,Ploty"
   ]
  },
  {
   "cell_type": "markdown",
   "metadata": {},
   "source": [
    "### Functions\n",
    "##### syntax\n",
    "` def functioname(arg1,arg2,....):\n",
    "   statement1\n",
    "   statement2\n",
    "    return\n",
    " `   "
   ]
  },
  {
   "cell_type": "code",
   "execution_count": 3,
   "metadata": {},
   "outputs": [
    {
     "name": "stdout",
     "output_type": "stream",
     "text": [
      "Hello World\n"
     ]
    }
   ],
   "source": [
    "def greet():\n",
    "    print(\"Hello World\")\n",
    "greet()"
   ]
  },
  {
   "cell_type": "code",
   "execution_count": 4,
   "metadata": {},
   "outputs": [
    {
     "name": "stdout",
     "output_type": "stream",
     "text": [
      "Hello World\n",
      "None\n"
     ]
    }
   ],
   "source": [
    "print(greet())"
   ]
  },
  {
   "cell_type": "code",
   "execution_count": 5,
   "metadata": {},
   "outputs": [
    {
     "name": "stdout",
     "output_type": "stream",
     "text": [
      "Hello World\n",
      "None\n"
     ]
    }
   ],
   "source": [
    "var = greet()\n",
    "print(var)"
   ]
  },
  {
   "cell_type": "code",
   "execution_count": 6,
   "metadata": {},
   "outputs": [
    {
     "name": "stdout",
     "output_type": "stream",
     "text": [
      "None\n"
     ]
    }
   ],
   "source": [
    "print(var)"
   ]
  },
  {
   "cell_type": "code",
   "execution_count": 11,
   "metadata": {},
   "outputs": [
    {
     "name": "stdout",
     "output_type": "stream",
     "text": [
      "30\n",
      "30\n",
      "None\n"
     ]
    }
   ],
   "source": [
    "def add(a,b):\n",
    "    print(a+b)\n",
    "s= add(10,20)\n",
    "print(add(10,20))"
   ]
  },
  {
   "cell_type": "code",
   "execution_count": 20,
   "metadata": {},
   "outputs": [
    {
     "name": "stdout",
     "output_type": "stream",
     "text": [
      "Hello everyone this is narmada mani\n"
     ]
    }
   ],
   "source": [
    "def greetwithname(firstname,lastname):\n",
    "    print('Hello everyone this is',firstname,lastname)\n",
    "greetwithname('narmada','mani')"
   ]
  },
  {
   "cell_type": "code",
   "execution_count": 37,
   "metadata": {},
   "outputs": [
    {
     "name": "stdout",
     "output_type": "stream",
     "text": [
      "Hello everyone this is 12 34\n"
     ]
    }
   ],
   "source": [
    "def greetwithname1(firstname,lastname):\n",
    "    print('Hello everyone this is'+ \n",
    "          firstname+' '+lastname)\n",
    "#     a = 45 + \\\n",
    "#     10  \n",
    "greetwithname(12,34)"
   ]
  },
  {
   "cell_type": "code",
   "execution_count": 65,
   "metadata": {},
   "outputs": [
    {
     "data": {
      "text/plain": [
       "20"
      ]
     },
     "execution_count": 65,
     "metadata": {},
     "output_type": "execute_result"
    }
   ],
   "source": [
    "def mysum(a,b=10): # here b default arguments and a is default arguments.\n",
    "    return a+b\n",
    "mysum(10)"
   ]
  },
  {
   "cell_type": "code",
   "execution_count": 72,
   "metadata": {},
   "outputs": [
    {
     "data": {
      "text/plain": [
       "[0, 2, 4]"
      ]
     },
     "execution_count": 72,
     "metadata": {},
     "output_type": "execute_result"
    }
   ],
   "source": [
    "def myrange(start,stop,step):\n",
    "    while start<stop:\n",
    "        yield start\n",
    "        start +=step\n",
    "list(myrange(0,5,2))"
   ]
  },
  {
   "cell_type": "code",
   "execution_count": 75,
   "metadata": {},
   "outputs": [
    {
     "data": {
      "text/plain": [
       "6"
      ]
     },
     "execution_count": 75,
     "metadata": {},
     "output_type": "execute_result"
    }
   ],
   "source": [
    "def myprod(*values):\n",
    "    f=1\n",
    "    for i in values:\n",
    "        f=f*i\n",
    "    return f\n",
    "myprod(1,2,3)# positional arguments."
   ]
  },
  {
   "cell_type": "code",
   "execution_count": 91,
   "metadata": {},
   "outputs": [
    {
     "name": "stdout",
     "output_type": "stream",
     "text": [
      "5 * 2 = 10\n",
      "5 * 3 = 15\n",
      "5 * 4 = 20\n",
      "5 * 5 = 25\n"
     ]
    }
   ],
   "source": [
    "def mytable(n,start=1,stop=10):\n",
    "    while start<=stop:\n",
    "        print(n,'*',start,'=',(n*start))\n",
    "        start +=1\n",
    "mytable(5,2,5)"
   ]
  },
  {
   "cell_type": "code",
   "execution_count": 52,
   "metadata": {},
   "outputs": [
    {
     "data": {
      "text/plain": [
       "[2]"
      ]
     },
     "execution_count": 52,
     "metadata": {},
     "output_type": "execute_result"
    }
   ],
   "source": [
    "l2=[3,12,10,2]\n",
    "def isprime(n):\n",
    "    c=0\n",
    "    for i in range(1,n+1):\n",
    "        #DocString\n",
    "        '''This is python\n",
    "        welcome to apssdc'''\n",
    "        if n%i==0:\n",
    "            c +=1\n",
    "    if c==2:\n",
    "        return n\n",
    "def printprime(l1):\n",
    "    #DocString\n",
    "    'gsdfjg jshdfhjhg hjjdfhj'\n",
    "    for i in l1:\n",
    "        res=isprime(i)\n",
    "        if res==2:\n",
    "            yield i\n",
    "# l1=[print(i) for i in l2 if isprime(i)]\n",
    "# printprime(l1)\n",
    "list(printprime(l2))"
   ]
  },
  {
   "cell_type": "code",
   "execution_count": 141,
   "metadata": {},
   "outputs": [
    {
     "name": "stdout",
     "output_type": "stream",
     "text": [
      "Help on built-in function sum in module builtins:\n",
      "\n",
      "sum(iterable, start=0, /)\n",
      "    Return the sum of a 'start' value (default: 0) plus an iterable of numbers\n",
      "    \n",
      "    When the iterable is empty, return the start value.\n",
      "    This function is intended specifically for use with numeric values and may\n",
      "    reject non-numeric types.\n",
      "\n"
     ]
    }
   ],
   "source": [
    "help(sum)"
   ]
  },
  {
   "cell_type": "code",
   "execution_count": 195,
   "metadata": {},
   "outputs": [],
   "source": [
    "import myfun"
   ]
  },
  {
   "cell_type": "code",
   "execution_count": 196,
   "metadata": {},
   "outputs": [
    {
     "data": {
      "text/plain": [
       "['__builtins__',\n",
       " '__cached__',\n",
       " '__doc__',\n",
       " '__file__',\n",
       " '__loader__',\n",
       " '__name__',\n",
       " '__package__',\n",
       " '__spec__',\n",
       " 'marks',\n",
       " 'predict']"
      ]
     },
     "execution_count": 196,
     "metadata": {},
     "output_type": "execute_result"
    }
   ],
   "source": [
    "dir(myfun)"
   ]
  },
  {
   "cell_type": "code",
   "execution_count": 197,
   "metadata": {},
   "outputs": [
    {
     "data": {
      "text/plain": [
       "100"
      ]
     },
     "execution_count": 197,
     "metadata": {},
     "output_type": "execute_result"
    }
   ],
   "source": [
    "myfun.marks # To get value from the another file."
   ]
  },
  {
   "cell_type": "code",
   "execution_count": 198,
   "metadata": {},
   "outputs": [
    {
     "data": {
      "text/plain": [
       "13"
      ]
     },
     "execution_count": 198,
     "metadata": {},
     "output_type": "execute_result"
    }
   ],
   "source": [
    "myfun.predict(6) # to get value from the function in a another file."
   ]
  },
  {
   "cell_type": "code",
   "execution_count": 199,
   "metadata": {},
   "outputs": [
    {
     "data": {
      "text/plain": [
       "'Narmada Mani'"
      ]
     },
     "execution_count": 199,
     "metadata": {},
     "output_type": "execute_result"
    }
   ],
   "source": [
    "def propername(fname,lname):# Read two string name\n",
    "    fname=fname.strip().capitalize()\n",
    "    lname=lname.strip().capitalize()\n",
    "    return fname+' '+lname\n",
    "propername('     narmada','mani')"
   ]
  },
  {
   "cell_type": "code",
   "execution_count": 200,
   "metadata": {},
   "outputs": [
    {
     "name": "stdout",
     "output_type": "stream",
     "text": [
      "Narmada Mani\n"
     ]
    }
   ],
   "source": [
    "def propername_single(name): # only read one string\n",
    "    name = name.strip().title()\n",
    "    return name\n",
    "#     for i in name:\n",
    "#         print(i.capitalize(),end=\" \")\n",
    "print(propername_single('   narmada mani       '))"
   ]
  },
  {
   "cell_type": "markdown",
   "metadata": {},
   "source": [
    "# anonymus function\n",
    "syntax `lambda arguments:expression'"
   ]
  },
  {
   "cell_type": "code",
   "execution_count": 203,
   "metadata": {},
   "outputs": [
    {
     "data": {
      "text/plain": [
       "[3, 5, 7, 9]"
      ]
     },
     "execution_count": 203,
     "metadata": {},
     "output_type": "execute_result"
    }
   ],
   "source": [
    "# add teo list values.............\n",
    "a = [1,2,3,4]\n",
    "b = [2,3,4,5]\n",
    "def add_two_list(a,b):\n",
    "    l1=[]\n",
    "    for i in range(len(a)):\n",
    "        l1.append(a[i]+b[i])\n",
    "    return l1\n",
    "add_two_list(a,b)"
   ]
  },
  {
   "cell_type": "code",
   "execution_count": 61,
   "metadata": {},
   "outputs": [
    {
     "name": "stdout",
     "output_type": "stream",
     "text": [
      "['raj', 56, 78, 98, 232]\n",
      "['ravi', 30, 56, 67, 385]\n",
      "['mani', 45, 67, 90, 587]\n",
      "['krishna', 75, 85, 44, 791]\n"
     ]
    }
   ],
   "source": [
    "studentmarks = [['raj',56,78,98],['ravi',30,56,67],['mani',45,67,90],\n",
    "                ['krishna',75,85,44]]\n",
    "# add the total marks for each student data.\n",
    "def student_total_marks(l1):\n",
    "    sum1 = 0\n",
    "    for i in l1:\n",
    "        for j in range(1,len(i)):\n",
    "            sum1 = sum1 +i[j]\n",
    "        i.append(sum1)\n",
    "        print(i)\n",
    "           # print(i[0],i[j])       \n",
    "student_total_marks(studentmarks)"
   ]
  },
  {
   "cell_type": "code",
   "execution_count": 62,
   "metadata": {},
   "outputs": [
    {
     "data": {
      "text/plain": [
       "[['raj', 56, 78, 98, 232],\n",
       " ['ravi', 30, 56, 67, 385],\n",
       " ['mani', 45, 67, 90, 587],\n",
       " ['krishna', 75, 85, 44, 791]]"
      ]
     },
     "execution_count": 62,
     "metadata": {},
     "output_type": "execute_result"
    }
   ],
   "source": [
    "sorted(studentmarks,key= lambda x:x[-1])"
   ]
  },
  {
   "cell_type": "code",
   "execution_count": 31,
   "metadata": {},
   "outputs": [
    {
     "name": "stdout",
     "output_type": "stream",
     "text": [
      "[56, 65, 67, 78]\n"
     ]
    }
   ],
   "source": [
    "l1=[67,78,56,65]\n",
    "for i in range(len(l1)):\n",
    "    for j in range(len(l1)):\n",
    "        if l1[i]<l1[j]:\n",
    "            temp = l1[i]\n",
    "            l1[i]=l1[j]\n",
    "            l1[j]= temp\n",
    "print(l1)"
   ]
  },
  {
   "cell_type": "code",
   "execution_count": 66,
   "metadata": {},
   "outputs": [
    {
     "name": "stdout",
     "output_type": "stream",
     "text": [
      "krishna\n"
     ]
    }
   ],
   "source": [
    "check = sorted(studentmarks,key= lambda x:x[2])\n",
    "maths = 0\n",
    "for i in check:\n",
    "    if i[-1]>maths:\n",
    "        name = i[0]\n",
    "print(name)"
   ]
  },
  {
   "cell_type": "code",
   "execution_count": 67,
   "metadata": {},
   "outputs": [
    {
     "data": {
      "text/plain": [
       "[['ravi', 30, 56, 67, 385],\n",
       " ['mani', 45, 67, 90, 587],\n",
       " ['raj', 56, 78, 98, 232],\n",
       " ['krishna', 75, 85, 44, 791]]"
      ]
     },
     "execution_count": 67,
     "metadata": {},
     "output_type": "execute_result"
    }
   ],
   "source": [
    "check"
   ]
  },
  {
   "cell_type": "code",
   "execution_count": 43,
   "metadata": {},
   "outputs": [
    {
     "data": {
      "text/plain": [
       "[5, 7, 9]"
      ]
     },
     "execution_count": 43,
     "metadata": {},
     "output_type": "execute_result"
    }
   ],
   "source": [
    "a=[1,2,3]\n",
    "b=[4,5,6]\n",
    "list(map(lambda x,y:x+y,a,b))"
   ]
  },
  {
   "cell_type": "code",
   "execution_count": 59,
   "metadata": {},
   "outputs": [
    {
     "data": {
      "text/plain": [
       "True"
      ]
     },
     "execution_count": 59,
     "metadata": {},
     "output_type": "execute_result"
    }
   ],
   "source": [
    "list(map(lambda x:x%2==0,a))"
   ]
  },
  {
   "cell_type": "code",
   "execution_count": 71,
   "metadata": {},
   "outputs": [
    {
     "data": {
      "text/plain": [
       "[None, 2, 3, None, 5, None, 7, None, None]"
      ]
     },
     "execution_count": 71,
     "metadata": {},
     "output_type": "execute_result"
    }
   ],
   "source": [
    "list(map(isprime,range(1,10)))"
   ]
  },
  {
   "cell_type": "code",
   "execution_count": 60,
   "metadata": {},
   "outputs": [
    {
     "data": {
      "text/plain": [
       "5"
      ]
     },
     "execution_count": 60,
     "metadata": {},
     "output_type": "execute_result"
    }
   ],
   "source": [
    "res = lambda a,b:a+b\n",
    "res(2,3)"
   ]
  },
  {
   "cell_type": "code",
   "execution_count": 79,
   "metadata": {},
   "outputs": [
    {
     "name": "stdout",
     "output_type": "stream",
     "text": [
      "1  \n",
      " \n",
      " \n",
      " \n",
      "2 3  \n",
      " \n",
      " \n",
      "4 5 6  \n",
      " \n",
      "7 8 9 10  \n",
      "11 12 13 14 15 "
     ]
    }
   ],
   "source": [
    "# pattern\n",
    "k=1\n",
    "for i in range(1,6):\n",
    "    for j in range(1,6):\n",
    "        if i>=j:\n",
    "            print(k,end=\" \")\n",
    "            k +=1\n",
    "        else:\n",
    "            print(\" \")"
   ]
  },
  {
   "cell_type": "code",
   "execution_count": 3,
   "metadata": {},
   "outputs": [
    {
     "name": "stdout",
     "output_type": "stream",
     "text": [
      "64\n",
      "YES\n"
     ]
    }
   ],
   "source": [
    "n = int(input())\n",
    "while n!=1:\n",
    "    if n%2==0:\n",
    "        n=3*n+1\n",
    "        #print(n)\n",
    "    else:\n",
    "        n=n//2\n",
    "        #print(n)\n",
    "if n==0:\n",
    "    print('NO')\n",
    "else:\n",
    "    print('YES')"
   ]
  },
  {
   "cell_type": "code",
   "execution_count": 7,
   "metadata": {},
   "outputs": [
    {
     "data": {
      "text/plain": [
       "[[1, 2, 3, 4, 5], [6, 7, 8, 9], [10, 11, 12], [13, 14], [15]]"
      ]
     },
     "execution_count": 7,
     "metadata": {},
     "output_type": "execute_result"
    }
   ],
   "source": [
    "n = 5\n",
    "pat = []\n",
    "val = 1\n",
    "for i in range(n):\n",
    "    pat.append([])\n",
    "    pat[i].extend(list(range(val,val+n-i)))\n",
    "    val = pat[i][-1]+1\n",
    "pat"
   ]
  },
  {
   "cell_type": "code",
   "execution_count": null,
   "metadata": {},
   "outputs": [],
   "source": []
  },
  {
   "cell_type": "code",
   "execution_count": null,
   "metadata": {},
   "outputs": [],
   "source": []
  }
 ],
 "metadata": {
  "kernelspec": {
   "display_name": "Python 3",
   "language": "python",
   "name": "python3"
  },
  "language_info": {
   "codemirror_mode": {
    "name": "ipython",
    "version": 3
   },
   "file_extension": ".py",
   "mimetype": "text/x-python",
   "name": "python",
   "nbconvert_exporter": "python",
   "pygments_lexer": "ipython3",
   "version": "3.7.3"
  }
 },
 "nbformat": 4,
 "nbformat_minor": 2
}
