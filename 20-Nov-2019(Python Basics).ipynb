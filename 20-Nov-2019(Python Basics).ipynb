{
 "cells": [
  {
   "cell_type": "code",
   "execution_count": 1,
   "metadata": {},
   "outputs": [
    {
     "data": {
      "text/plain": [
       "[10, 20, 30, 3, 4, 5]"
      ]
     },
     "execution_count": 1,
     "metadata": {},
     "output_type": "execute_result"
    }
   ],
   "source": [
    "l1=[10,20,30]\n",
    "l2=[3,4,5]\n",
    "l1+l2"
   ]
  },
  {
   "cell_type": "code",
   "execution_count": 2,
   "metadata": {},
   "outputs": [],
   "source": [
    "l1.extend(l2)"
   ]
  },
  {
   "cell_type": "code",
   "execution_count": 3,
   "metadata": {},
   "outputs": [
    {
     "data": {
      "text/plain": [
       "[10, 20, 30, 3, 4, 5]"
      ]
     },
     "execution_count": 3,
     "metadata": {},
     "output_type": "execute_result"
    }
   ],
   "source": [
    "l1"
   ]
  },
  {
   "cell_type": "code",
   "execution_count": null,
   "metadata": {},
   "outputs": [],
   "source": [
    "import file1.\n",
    "from file1 import abc\n",
    "from file1 import abc as a\n",
    "from file1 import *"
   ]
  },
  {
   "cell_type": "code",
   "execution_count": 11,
   "metadata": {},
   "outputs": [],
   "source": []
  },
  {
   "cell_type": "code",
   "execution_count": 14,
   "metadata": {},
   "outputs": [
    {
     "data": {
      "text/plain": [
       "[1, 3, 7, 9, 8, 7, 4, 2]"
      ]
     },
     "execution_count": 14,
     "metadata": {},
     "output_type": "execute_result"
    }
   ],
   "source": [
    "l1=[9,3,1,7,2,8,4,7]\n",
    "l3=l1[0:4]\n",
    "l3.sort()\n",
    "l4=l1[4:]\n",
    "l4.sort()\n",
    "l4=l4[::-1]\n",
    "l1=l3+l4\n",
    "l1"
   ]
  },
  {
   "cell_type": "code",
   "execution_count": 16,
   "metadata": {},
   "outputs": [
    {
     "data": {
      "text/plain": [
       "[1, 3, 7, 9, 8, 7, 4, 2]"
      ]
     },
     "execution_count": 16,
     "metadata": {},
     "output_type": "execute_result"
    }
   ],
   "source": [
    "sorted(l1[0:4]) + sorted(l1[4:], reverse=True)"
   ]
  },
  {
   "cell_type": "code",
   "execution_count": 20,
   "metadata": {},
   "outputs": [
    {
     "data": {
      "text/plain": [
       "[3, 4, 15, 20]"
      ]
     },
     "execution_count": 20,
     "metadata": {},
     "output_type": "execute_result"
    }
   ],
   "source": [
    "l1=[20,3,15,4]\n",
    "l1.sort()\n",
    "l1"
   ]
  },
  {
   "cell_type": "code",
   "execution_count": 21,
   "metadata": {},
   "outputs": [
    {
     "data": {
      "text/plain": [
       "[3, 4, 15, 20]"
      ]
     },
     "execution_count": 21,
     "metadata": {},
     "output_type": "execute_result"
    }
   ],
   "source": [
    "sorted(l1,)"
   ]
  },
  {
   "cell_type": "code",
   "execution_count": 28,
   "metadata": {},
   "outputs": [],
   "source": [
    "l5 = [9,3,1,7,2,8,4,7]\n",
    "sorted(l5[:len(l5)//2]) + sorted(l5[len(l5)//2:],reverse=True)"
   ]
  },
  {
   "cell_type": "code",
   "execution_count": 62,
   "metadata": {},
   "outputs": [
    {
     "ename": "SyntaxError",
     "evalue": "invalid syntax (<ipython-input-62-2443d0322fa6>, line 6)",
     "output_type": "error",
     "traceback": [
      "\u001b[1;36m  File \u001b[1;32m\"<ipython-input-62-2443d0322fa6>\"\u001b[1;36m, line \u001b[1;32m6\u001b[0m\n\u001b[1;33m    global id1 = 10\u001b[0m\n\u001b[1;37m               ^\u001b[0m\n\u001b[1;31mSyntaxError\u001b[0m\u001b[1;31m:\u001b[0m invalid syntax\n"
     ]
    }
   ],
   "source": [
    "# using global keyword in function\n",
    "# Default Arguments.....\n",
    "id1 = 4\n",
    "def sample(id1,name,marks=10):\n",
    "   # print(id1)\n",
    "    global id1 = 10\n",
    "    return id1\n",
    "res = sample(2,'narmada')# synatx of default arguments....\n",
    "print(\"out side \",id1)\n",
    "def teacher():\n",
    "    return res\n",
    "teacher()\n",
    "#default arguments shoud assign only last values\n",
    "# Keywards arguments -> "
   ]
  },
  {
   "cell_type": "code",
   "execution_count": 63,
   "metadata": {},
   "outputs": [
    {
     "name": "stdout",
     "output_type": "stream",
     "text": [
      "marks inside:  79\n"
     ]
    }
   ],
   "source": [
    "# using nonlocal keyword in function.\n",
    "def stu():\n",
    "    id = 2\n",
    "    name =\"narmada\"\n",
    "    marks = \"50\"\n",
    "    def teac():\n",
    "        nonlocal marks\n",
    "        marks = 79\n",
    "    teac()\n",
    "    print(\"marks inside: \", marks)\n",
    "stu()\n",
    "#print(\"marks outside funct :\",marks)"
   ]
  },
  {
   "cell_type": "code",
   "execution_count": 78,
   "metadata": {},
   "outputs": [
    {
     "name": "stdout",
     "output_type": "stream",
     "text": [
      "b value is:  (30, 6, 7)\n",
      "53\n"
     ]
    }
   ],
   "source": [
    "# Variable Length Arguments... \n",
    "def addition(a,*b):\n",
    "    print('b value is: ',b)\n",
    "    for i in b:\n",
    "        a +=i\n",
    "    print(a)\n",
    "addition(10,30,6,7) # here we are passing more values but it takes after one values it takes touple"
   ]
  },
  {
   "cell_type": "code",
   "execution_count": 84,
   "metadata": {},
   "outputs": [
    {
     "name": "stdout",
     "output_type": "stream",
     "text": [
      "name narmada\n",
      "marks 50\n"
     ]
    }
   ],
   "source": [
    "# keyword length argument... \n",
    "def keyword_length(**a):\n",
    "    for i,j in a.items():\n",
    "        print(i,j)\n",
    "keyword_length(name = 'narmada',marks = 50) #here we are passing dectionary values "
   ]
  },
  {
   "cell_type": "code",
   "execution_count": 83,
   "metadata": {},
   "outputs": [
    {
     "name": "stdout",
     "output_type": "stream",
     "text": [
      "['False', 'None', 'True', 'and', 'as', 'assert', 'async', 'await', 'break', 'class', 'continue', 'def', 'del', 'elif', 'else', 'except', 'finally', 'for', 'from', 'global', 'if', 'import', 'in', 'is', 'lambda', 'nonlocal', 'not', 'or', 'pass', 'raise', 'return', 'try', 'while', 'with', 'yield'] "
     ]
    }
   ],
   "source": [
    "import keyword\n",
    "print(keyword.kwlist,end=\" \")"
   ]
  },
  {
   "cell_type": "code",
   "execution_count": 15,
   "metadata": {},
   "outputs": [
    {
     "name": "stdout",
     "output_type": "stream",
     "text": [
      "enter a value3\n",
      "0.5\n",
      "56\n"
     ]
    }
   ],
   "source": [
    "# Expection handling......\n",
    "try:\n",
    "    a = int(input(\"enter a value\"))\n",
    "    b = 5\n",
    "   # print(type(a))\n",
    "    c = a + 5\n",
    "except TypeError:\n",
    "    a = int(input(\"Enter a value: \"))\n",
    "    c = a+b\n",
    "    print(c)\n",
    "else:\n",
    "    z=11\n",
    "    h=22\n",
    "    c=z/h\n",
    "    print(c)\n",
    "finally:\n",
    "    e=7\n",
    "    f=8\n",
    "    g=e*f\n",
    "    print(g)\n",
    "# If try block is true like with out any errors then execute else block.\n",
    "# If try block is false ,then automatically exceute the exception block. "
   ]
  },
  {
   "cell_type": "markdown",
   "metadata": {},
   "source": []
  },
  {
   "cell_type": "code",
   "execution_count": null,
   "metadata": {},
   "outputs": [],
   "source": []
  }
 ],
 "metadata": {
  "kernelspec": {
   "display_name": "Python 3",
   "language": "python",
   "name": "python3"
  },
  "language_info": {
   "codemirror_mode": {
    "name": "ipython",
    "version": 3
   },
   "file_extension": ".py",
   "mimetype": "text/x-python",
   "name": "python",
   "nbconvert_exporter": "python",
   "pygments_lexer": "ipython3",
   "version": "3.7.3"
  }
 },
 "nbformat": 4,
 "nbformat_minor": 2
}
