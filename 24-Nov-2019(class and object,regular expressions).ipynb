{
 "cells": [
  {
   "cell_type": "code",
   "execution_count": 1,
   "metadata": {},
   "outputs": [
    {
     "name": "stdout",
     "output_type": "stream",
     "text": [
      "<class 'str'>\n"
     ]
    }
   ],
   "source": [
    "print(type('hello'))"
   ]
  },
  {
   "cell_type": "code",
   "execution_count": 4,
   "metadata": {},
   "outputs": [
    {
     "ename": "NameError",
     "evalue": "name 'distanceFromOrigin' is not defined",
     "output_type": "error",
     "traceback": [
      "\u001b[1;31m---------------------------------------------------------------------------\u001b[0m",
      "\u001b[1;31mNameError\u001b[0m                                 Traceback (most recent call last)",
      "\u001b[1;32m<ipython-input-4-39e3873a5a1a>\u001b[0m in \u001b[0;36m<module>\u001b[1;34m\u001b[0m\n\u001b[0;32m      2\u001b[0m     \u001b[1;32mdef\u001b[0m \u001b[0mdistanceFromOrigin\u001b[0m\u001b[1;33m(\u001b[0m\u001b[0mself\u001b[0m\u001b[1;33m,\u001b[0m\u001b[0mx\u001b[0m\u001b[1;33m,\u001b[0m\u001b[0my\u001b[0m\u001b[1;33m)\u001b[0m\u001b[1;33m:\u001b[0m\u001b[1;33m\u001b[0m\u001b[1;33m\u001b[0m\u001b[0m\n\u001b[0;32m      3\u001b[0m         \u001b[1;32mreturn\u001b[0m \u001b[1;33m(\u001b[0m\u001b[0mx\u001b[0m\u001b[1;33m*\u001b[0m\u001b[0mx\u001b[0m \u001b[1;33m+\u001b[0m\u001b[0my\u001b[0m\u001b[1;33m*\u001b[0m\u001b[0my\u001b[0m\u001b[1;33m)\u001b[0m\u001b[1;33m**\u001b[0m\u001b[1;36m0.5\u001b[0m\u001b[1;33m\u001b[0m\u001b[1;33m\u001b[0m\u001b[0m\n\u001b[1;32m----> 4\u001b[1;33m \u001b[0mdistanceFromOrigin\u001b[0m\u001b[1;33m(\u001b[0m\u001b[1;36m3\u001b[0m\u001b[1;33m,\u001b[0m\u001b[1;36m4\u001b[0m\u001b[1;33m)\u001b[0m\u001b[1;33m\u001b[0m\u001b[1;33m\u001b[0m\u001b[0m\n\u001b[0m",
      "\u001b[1;31mNameError\u001b[0m: name 'distanceFromOrigin' is not defined"
     ]
    }
   ],
   "source": [
    "class Point:\n",
    "    def distanceFromOrigin(self,x,y):\n",
    "        return (x*x +y*y)**0.5\n",
    "distanceFromOrigin(3,4)"
   ]
  },
  {
   "cell_type": "code",
   "execution_count": 7,
   "metadata": {},
   "outputs": [],
   "source": [
    "p = Point()"
   ]
  },
  {
   "cell_type": "code",
   "execution_count": 8,
   "metadata": {},
   "outputs": [
    {
     "data": {
      "text/plain": [
       "5.0"
      ]
     },
     "execution_count": 8,
     "metadata": {},
     "output_type": "execute_result"
    }
   ],
   "source": [
    "p.distanceFromOrigin(3,4)"
   ]
  },
  {
   "cell_type": "code",
   "execution_count": 9,
   "metadata": {},
   "outputs": [
    {
     "data": {
      "text/plain": [
       "5.0"
      ]
     },
     "execution_count": 9,
     "metadata": {},
     "output_type": "execute_result"
    }
   ],
   "source": [
    "Point().distanceFromOrigin(3,4)"
   ]
  },
  {
   "cell_type": "code",
   "execution_count": 49,
   "metadata": {},
   "outputs": [],
   "source": [
    "class Point:\n",
    "    def __init__(self,x=0,y=0):\n",
    "        self.x = x\n",
    "        self.y = y\n",
    "    def distanceFromOrigin(self):\n",
    "        return (self.x**2 +self.y**2)**0.5 # to find the distance from the distance from the origin.\n",
    "    def distance2Points(self,x1,y1):\n",
    "        return ((x1-self.x)**2 + (y1-self.y)**2)**0.5 # to find distance from the origin\n",
    "    def midpoint(self,x1,y1):\n",
    "        return Point((x1+self.x)/2,(y1+self.x)/2) # to find midpoint of two values.\n",
    "    def print_print(self):\n",
    "        print('({},{})'.format(self.x,self.y)) # string formatt ...\n",
    "    "
   ]
  },
  {
   "cell_type": "code",
   "execution_count": 66,
   "metadata": {},
   "outputs": [
    {
     "name": "stdout",
     "output_type": "stream",
     "text": [
      "0 0\n",
      "3 4\n",
      "0.0\n",
      "3.605551275463989\n",
      "(2.0,2.0)\n"
     ]
    }
   ],
   "source": [
    "p1 = Point()\n",
    "print(p1.x,p1.y)\n",
    "p2 = Point(3,4)\n",
    "print(p2.x,p2.y)\n",
    "print(p1.distanceFromOrigin())\n",
    "print(p2.distance2Points(1,1))\n",
    "mid = p2.midpoint(1,1)\n",
    "mid.print_print()"
   ]
  },
  {
   "cell_type": "code",
   "execution_count": 65,
   "metadata": {},
   "outputs": [
    {
     "name": "stdout",
     "output_type": "stream",
     "text": [
      "(10,20)\n"
     ]
    }
   ],
   "source": [
    "x=10\n",
    "y=20\n",
    "print('({},{})'.format(x,y))# this is one type of printing format."
   ]
  },
  {
   "cell_type": "code",
   "execution_count": 102,
   "metadata": {},
   "outputs": [],
   "source": [
    "class SMS_store:\n",
    "    def __init__(self):\n",
    "        self.SMS = []\n",
    "    def add_new_arrival(self,from_number,time_arrived,text_of_SMS):\n",
    "        self.SMS.append([from_number,time_arrived,text_of_SMS,False])\n",
    "    def message_count(self):\n",
    "        return len(self.SMS)\n",
    "    def get_unread_indexes(self):\n",
    "        l = []\n",
    "        for i in range(len(self.SMS)):\n",
    "            if SMS[i][-1]==False:\n",
    "                l.append(i)\n",
    "        return l\n",
    "\n",
    "    def get_message(self,i):\n",
    "        self.SMS[i][-1]=True\n",
    "        return self.SMS[:-1]\n",
    "    \n",
    "    def delete(self,i):\n",
    "        self.SMS.pop(i)\n",
    "    \n",
    "    def clear(self):\n",
    "        self.SMS.clear()     "
   ]
  },
  {
   "cell_type": "code",
   "execution_count": 97,
   "metadata": {},
   "outputs": [],
   "source": [
    "my_inbox = SMS_store()"
   ]
  },
  {
   "cell_type": "code",
   "execution_count": 100,
   "metadata": {},
   "outputs": [],
   "source": [
    "my_inbox.add_new_arrival(9866944121,'8:40','hello krishna')"
   ]
  },
  {
   "cell_type": "code",
   "execution_count": 101,
   "metadata": {},
   "outputs": [
    {
     "data": {
      "text/plain": [
       "[[9866944121, '8:40', 'hello krishna', False]]"
      ]
     },
     "execution_count": 101,
     "metadata": {},
     "output_type": "execute_result"
    }
   ],
   "source": [
    "my_inbox.SMS"
   ]
  },
  {
   "cell_type": "code",
   "execution_count": 98,
   "metadata": {},
   "outputs": [],
   "source": [
    "my_inbox.clear()"
   ]
  },
  {
   "cell_type": "code",
   "execution_count": 103,
   "metadata": {},
   "outputs": [
    {
     "ename": "IndexError",
     "evalue": "list index out of range",
     "output_type": "error",
     "traceback": [
      "\u001b[1;31m---------------------------------------------------------------------------\u001b[0m",
      "\u001b[1;31mIndexError\u001b[0m                                Traceback (most recent call last)",
      "\u001b[1;32m<ipython-input-103-e2e5295e91e6>\u001b[0m in \u001b[0;36m<module>\u001b[1;34m\u001b[0m\n\u001b[1;32m----> 1\u001b[1;33m \u001b[0mmy_inbox\u001b[0m\u001b[1;33m.\u001b[0m\u001b[0mget_message\u001b[0m\u001b[1;33m(\u001b[0m\u001b[1;36m1\u001b[0m\u001b[1;33m)\u001b[0m\u001b[1;33m\u001b[0m\u001b[1;33m\u001b[0m\u001b[0m\n\u001b[0m",
      "\u001b[1;32m<ipython-input-96-6f75643650ce>\u001b[0m in \u001b[0;36mget_message\u001b[1;34m(self, i)\u001b[0m\n\u001b[0;32m     14\u001b[0m \u001b[1;33m\u001b[0m\u001b[0m\n\u001b[0;32m     15\u001b[0m     \u001b[1;32mdef\u001b[0m \u001b[0mget_message\u001b[0m\u001b[1;33m(\u001b[0m\u001b[0mself\u001b[0m\u001b[1;33m,\u001b[0m\u001b[0mi\u001b[0m\u001b[1;33m)\u001b[0m\u001b[1;33m:\u001b[0m\u001b[1;33m\u001b[0m\u001b[1;33m\u001b[0m\u001b[0m\n\u001b[1;32m---> 16\u001b[1;33m         \u001b[0mself\u001b[0m\u001b[1;33m.\u001b[0m\u001b[0mSMS\u001b[0m\u001b[1;33m[\u001b[0m\u001b[0mi\u001b[0m\u001b[1;33m]\u001b[0m\u001b[1;33m[\u001b[0m\u001b[1;33m-\u001b[0m\u001b[1;36m1\u001b[0m\u001b[1;33m]\u001b[0m\u001b[1;33m=\u001b[0m\u001b[1;32mTrue\u001b[0m\u001b[1;33m\u001b[0m\u001b[1;33m\u001b[0m\u001b[0m\n\u001b[0m\u001b[0;32m     17\u001b[0m         \u001b[1;32mreturn\u001b[0m \u001b[0mself\u001b[0m\u001b[1;33m.\u001b[0m\u001b[0mSMS\u001b[0m\u001b[1;33m[\u001b[0m\u001b[1;33m:\u001b[0m\u001b[1;33m-\u001b[0m\u001b[1;36m1\u001b[0m\u001b[1;33m]\u001b[0m\u001b[1;33m\u001b[0m\u001b[1;33m\u001b[0m\u001b[0m\n\u001b[0;32m     18\u001b[0m \u001b[1;33m\u001b[0m\u001b[0m\n",
      "\u001b[1;31mIndexError\u001b[0m: list index out of range"
     ]
    }
   ],
   "source": [
    "my_inbox.get_message(1)"
   ]
  },
  {
   "cell_type": "markdown",
   "metadata": {},
   "source": [
    "### Regular Expressions\n",
    "    - For checking avaiable data valid for us or not\n",
    "    - to extract the data"
   ]
  },
  {
   "cell_type": "markdown",
   "metadata": {},
   "source": []
  },
  {
   "cell_type": "code",
   "execution_count": 108,
   "metadata": {},
   "outputs": [
    {
     "name": "stdout",
     "output_type": "stream",
     "text": [
      "<re.Match object; span=(0, 1), match='p'>\n"
     ]
    }
   ],
   "source": [
    "## re.search(str_pattern,str_data) synatx. it returns the index position matching.\n",
    "# only first occurenece..\n",
    "import re\n",
    "name = 'pythan program'\n",
    "print(re.search('p',name))"
   ]
  },
  {
   "cell_type": "code",
   "execution_count": 111,
   "metadata": {},
   "outputs": [
    {
     "name": "stdout",
     "output_type": "stream",
     "text": [
      "None\n"
     ]
    }
   ],
   "source": [
    "name = 'pythan program'\n",
    "print(re.search('z',name)) # if character ir not avaiable it return None"
   ]
  },
  {
   "cell_type": "code",
   "execution_count": 120,
   "metadata": {},
   "outputs": [
    {
     "name": "stdout",
     "output_type": "stream",
     "text": [
      "lakshmi\n",
      "raju\n",
      "manu\n"
     ]
    }
   ],
   "source": [
    "# print the names which conatns 'u' using regular expression.\n",
    "names =['sairam','lakshmi','raju',\"manu\"]\n",
    "for name in names:\n",
    "    if re.search('u',name) or re.search('l',name):\n",
    "        print(name)"
   ]
  },
  {
   "cell_type": "code",
   "execution_count": 135,
   "metadata": {},
   "outputs": [
    {
     "name": "stdout",
     "output_type": "stream",
     "text": [
      "<re.Match object; span=(0, 1), match='p'>\n"
     ]
    }
   ],
   "source": [
    "### re.match(str_pattern,str_data)\n",
    "# it returns only match from starting character only...\n",
    "name =\"python program\"\n",
    "print(re.match('p',name))"
   ]
  },
  {
   "cell_type": "code",
   "execution_count": 138,
   "metadata": {},
   "outputs": [
    {
     "name": "stdout",
     "output_type": "stream",
     "text": [
      "['p', 'p']\n"
     ]
    }
   ],
   "source": [
    "### re.findall(str_pattern,str_data)\n",
    "name = \"python programming\"\n",
    "print(re.findall('p',name))# It returns the list format of all occurences."
   ]
  },
  {
   "cell_type": "code",
   "execution_count": 139,
   "metadata": {},
   "outputs": [
    {
     "name": "stdout",
     "output_type": "stream",
     "text": [
      "[]\n"
     ]
    }
   ],
   "source": [
    "name = \"python programming\"\n",
    "print(re.findall('z',name))"
   ]
  },
  {
   "cell_type": "code",
   "execution_count": 144,
   "metadata": {},
   "outputs": [
    {
     "name": "stdout",
     "output_type": "stream",
     "text": [
      "<re.Match object; span=(0, 1), match=' '>\n",
      "None\n",
      "<re.Match object; span=(0, 2), match='sa'>\n",
      "<re.Match object; span=(2, 4), match='ir'>\n"
     ]
    }
   ],
   "source": [
    "#### special charcters with special meaning in re.\n",
    "# 1) .dot-> Any single character.\n",
    "print(re.search('.',' narmada')) # first character match\n",
    "print(re.search('.','')) # no charcter in string it returns None.\n",
    "print(re.search('s.','sairam'))\n",
    "print(re.search('i.','sairam'))"
   ]
  },
  {
   "cell_type": "code",
   "execution_count": 153,
   "metadata": {},
   "outputs": [
    {
     "name": "stdout",
     "output_type": "stream",
     "text": [
      "<re.Match object; span=(0, 3), match='sai'>\n"
     ]
    }
   ],
   "source": [
    "print(re.match('...','sairam'))"
   ]
  },
  {
   "cell_type": "code",
   "execution_count": 154,
   "metadata": {},
   "outputs": [
    {
     "name": "stdout",
     "output_type": "stream",
     "text": [
      "None\n"
     ]
    }
   ],
   "source": [
    "print(re.match('......','hai'))"
   ]
  },
  {
   "cell_type": "code",
   "execution_count": 161,
   "metadata": {},
   "outputs": [
    {
     "name": "stdout",
     "output_type": "stream",
     "text": [
      "12\n",
      "123\n",
      "1234\n",
      "1235\n"
     ]
    }
   ],
   "source": [
    "numbers = ['12','123','1234','1235']\n",
    "for i in numbers:\n",
    "    if re.search('...',i):\n",
    "        print(i)"
   ]
  },
  {
   "cell_type": "code",
   "execution_count": 164,
   "metadata": {},
   "outputs": [
    {
     "name": "stdout",
     "output_type": "stream",
     "text": [
      "<re.Match object; span=(0, 1), match='k'>\n"
     ]
    }
   ],
   "source": [
    "### 2) ^ starting with\n",
    "print(re.search('^k','krishna'))"
   ]
  },
  {
   "cell_type": "code",
   "execution_count": 170,
   "metadata": {},
   "outputs": [
    {
     "name": "stdout",
     "output_type": "stream",
     "text": [
      "None\n"
     ]
    }
   ],
   "source": [
    "print(re.search('^z','krishna'))"
   ]
  },
  {
   "cell_type": "code",
   "execution_count": 176,
   "metadata": {},
   "outputs": [
    {
     "name": "stdout",
     "output_type": "stream",
     "text": [
      "<re.Match object; span=(6, 7), match='a'>\n"
     ]
    }
   ],
   "source": [
    "### 3) $ ending with\n",
    "print(re.search('a$','krishna'))"
   ]
  },
  {
   "cell_type": "code",
   "execution_count": 187,
   "metadata": {},
   "outputs": [
    {
     "name": "stdout",
     "output_type": "stream",
     "text": [
      "123\n",
      "123\n",
      "143\n"
     ]
    }
   ],
   "source": [
    "numbers = ['12','123','1234','1235','123',\"143\"]\n",
    "for i in numbers:\n",
    "    if re.search('^...$',i): # only print three charcters...\n",
    "        print(i)"
   ]
  },
  {
   "cell_type": "code",
   "execution_count": 188,
   "metadata": {},
   "outputs": [
    {
     "name": "stdout",
     "output_type": "stream",
     "text": [
      "123\n",
      "123\n",
      "143\n"
     ]
    }
   ],
   "source": [
    "numbers = ['12','123','1234','1235','123',\"143\"]\n",
    "for i in numbers:\n",
    "    if re.search('^1.3$',i): # only specific pattren\n",
    "        print(i)"
   ]
  },
  {
   "cell_type": "code",
   "execution_count": 191,
   "metadata": {},
   "outputs": [
    {
     "name": "stdout",
     "output_type": "stream",
     "text": [
      "<re.Match object; span=(7, 8), match='1'>\n"
     ]
    }
   ],
   "source": [
    "## 4)\\d->any single digit.\n",
    "print(re.search('\\d','krishna143'))"
   ]
  },
  {
   "cell_type": "code",
   "execution_count": 199,
   "metadata": {},
   "outputs": [
    {
     "name": "stdout",
     "output_type": "stream",
     "text": [
      "5\n"
     ]
    }
   ],
   "source": [
    "# find the sum of all the digits in data\n",
    "novel =' every 1 has story or 100 stories 300'\n",
    "d = re.findall('\\d',novel)\n",
    "s1=0\n",
    "for i in d:\n",
    "    s1 +=int(i)\n",
    "print(s1)\n",
    "    \n",
    "#print(sum(map(int,re.findall('\\d',novel))))"
   ]
  },
  {
   "cell_type": "code",
   "execution_count": 202,
   "metadata": {},
   "outputs": [
    {
     "data": {
      "text/plain": [
       "['100', '300']"
      ]
     },
     "execution_count": 202,
     "metadata": {},
     "output_type": "execute_result"
    }
   ],
   "source": [
    "# map(fun,collection_items)\n",
    "re.findall('\\d\\d\\d',novel)"
   ]
  },
  {
   "cell_type": "code",
   "execution_count": 203,
   "metadata": {},
   "outputs": [
    {
     "data": {
      "text/plain": [
       "<re.Match object; span=(0, 2), match='kr'>"
      ]
     },
     "execution_count": 203,
     "metadata": {},
     "output_type": "execute_result"
    }
   ],
   "source": [
    "## 5) {min,max}->range\n",
    "re.search('.{2}','krishna')"
   ]
  },
  {
   "cell_type": "code",
   "execution_count": 209,
   "metadata": {},
   "outputs": [
    {
     "data": {
      "text/plain": [
       "<re.Match object; span=(0, 6), match='krishn'>"
      ]
     },
     "execution_count": 209,
     "metadata": {},
     "output_type": "execute_result"
    }
   ],
   "source": [
    "re.search('.{4,6}','krishna')"
   ]
  },
  {
   "cell_type": "code",
   "execution_count": 212,
   "metadata": {},
   "outputs": [
    {
     "data": {
      "text/plain": [
       "<re.Match object; span=(0, 6), match='krishn'>"
      ]
     },
     "execution_count": 212,
     "metadata": {},
     "output_type": "execute_result"
    }
   ],
   "source": [
    "re.search('.{4,6}','krishn')"
   ]
  },
  {
   "cell_type": "code",
   "execution_count": 214,
   "metadata": {},
   "outputs": [
    {
     "name": "stdout",
     "output_type": "stream",
     "text": [
      "['1', '100', '300']\n"
     ]
    }
   ],
   "source": [
    "print(re.findall('\\d{1,}',novel))"
   ]
  },
  {
   "cell_type": "code",
   "execution_count": 220,
   "metadata": {},
   "outputs": [
    {
     "name": "stdout",
     "output_type": "stream",
     "text": [
      "<re.Match object; span=(1, 2), match='a'>\n"
     ]
    }
   ],
   "source": [
    "### 6)[]\n",
    "print(re.search('[ach]','narmada'))"
   ]
  },
  {
   "cell_type": "code",
   "execution_count": 222,
   "metadata": {},
   "outputs": [
    {
     "name": "stdout",
     "output_type": "stream",
     "text": [
      "<re.Match object; span=(1, 2), match='a'>\n"
     ]
    }
   ],
   "source": [
    "print(re.search('[ach]','narmada'))"
   ]
  },
  {
   "cell_type": "code",
   "execution_count": 223,
   "metadata": {},
   "outputs": [
    {
     "data": {
      "text/plain": [
       "<re.Match object; span=(0, 1), match='i'>"
      ]
     },
     "execution_count": 223,
     "metadata": {},
     "output_type": "execute_result"
    }
   ],
   "source": [
    "re.search('[a-k]','ijk')"
   ]
  },
  {
   "cell_type": "code",
   "execution_count": 228,
   "metadata": {},
   "outputs": [
    {
     "data": {
      "text/plain": [
       "<re.Match object; span=(3, 4), match='w'>"
      ]
     },
     "execution_count": 228,
     "metadata": {},
     "output_type": "execute_result"
    }
   ],
   "source": [
    "### [^acd]-> expect a,c,d characters.\n",
    "re.search('[^acd]','acdwer')"
   ]
  },
  {
   "cell_type": "code",
   "execution_count": 235,
   "metadata": {},
   "outputs": [
    {
     "name": "stdout",
     "output_type": "stream",
     "text": [
      "9866944121\n",
      "9533994141\n"
     ]
    }
   ],
   "source": [
    "numbers = ['9866944121','5465342','9533994141','9876543218asd']\n",
    "for i in numbers:\n",
    "    if re.search('^[6-9]{1}[0-9]{9}$',i):\n",
    "        print(i)\n",
    "        "
   ]
  },
  {
   "cell_type": "markdown",
   "metadata": {},
   "source": [
    "## \\D -> \n",
    "       - otherthan digit"
   ]
  },
  {
   "cell_type": "code",
   "execution_count": 236,
   "metadata": {},
   "outputs": [
    {
     "data": {
      "text/plain": [
       "<re.Match object; span=(0, 1), match=' '>"
      ]
     },
     "execution_count": 236,
     "metadata": {},
     "output_type": "execute_result"
    }
   ],
   "source": [
    "re.search('\\D',' 123 sai')"
   ]
  },
  {
   "cell_type": "markdown",
   "metadata": {},
   "source": [
    "### \\s - \n",
    "       -any spacing single character"
   ]
  },
  {
   "cell_type": "code",
   "execution_count": 238,
   "metadata": {},
   "outputs": [
    {
     "data": {
      "text/plain": [
       "<re.Match object; span=(0, 1), match=' '>"
      ]
     },
     "execution_count": 238,
     "metadata": {},
     "output_type": "execute_result"
    }
   ],
   "source": [
    "re.search('\\s',' narmada mani')"
   ]
  },
  {
   "cell_type": "markdown",
   "metadata": {},
   "source": [
    "### \\S \n",
    "    -> except space"
   ]
  },
  {
   "cell_type": "code",
   "execution_count": 239,
   "metadata": {},
   "outputs": [
    {
     "data": {
      "text/plain": [
       "<re.Match object; span=(1, 2), match='n'>"
      ]
     },
     "execution_count": 239,
     "metadata": {},
     "output_type": "execute_result"
    }
   ],
   "source": [
    "re.search('\\S',' narmada')"
   ]
  },
  {
   "cell_type": "markdown",
   "metadata": {},
   "source": [
    "### \\w\n",
    "     ->single identifier character\n",
    "     -> a-z,A-Z,_,0-9"
   ]
  },
  {
   "cell_type": "code",
   "execution_count": 243,
   "metadata": {},
   "outputs": [
    {
     "data": {
      "text/plain": [
       "<re.Match object; span=(0, 1), match='9'>"
      ]
     },
     "execution_count": 243,
     "metadata": {},
     "output_type": "execute_result"
    }
   ],
   "source": [
    "re.search('\\w','krishna123')"
   ]
  },
  {
   "cell_type": "markdown",
   "metadata": {},
   "source": [
    "##  -\\W\n",
    "    -> except indentifiers"
   ]
  },
  {
   "cell_type": "code",
   "execution_count": 244,
   "metadata": {},
   "outputs": [
    {
     "data": {
      "text/plain": [
       "<re.Match object; span=(7, 8), match=' '>"
      ]
     },
     "execution_count": 244,
     "metadata": {},
     "output_type": "execute_result"
    }
   ],
   "source": [
    "re.search('\\W','narmada krishna_123')"
   ]
  },
  {
   "cell_type": "code",
   "execution_count": 253,
   "metadata": {},
   "outputs": [
    {
     "name": "stdout",
     "output_type": "stream",
     "text": [
      "['e', 'v', 'e', 'r', 'y', 'h', 'a', 's', 's', 't', 'o', 'r', 'y']\n"
     ]
    },
    {
     "data": {
      "text/plain": [
       "13"
      ]
     },
     "execution_count": 253,
     "metadata": {},
     "output_type": "execute_result"
    }
   ],
   "source": [
    "# find the lowercase a-z in given data\n",
    "novel = 'every 1 has story'\n",
    "res = re.findall('[a-z]',novel)\n",
    "print(res)\n",
    "len(res)"
   ]
  },
  {
   "cell_type": "code",
   "execution_count": 254,
   "metadata": {},
   "outputs": [],
   "source": [
    "### * star:-> 0 or more occurences."
   ]
  },
  {
   "cell_type": "code",
   "execution_count": 260,
   "metadata": {},
   "outputs": [
    {
     "name": "stdout",
     "output_type": "stream",
     "text": [
      "<re.Match object; span=(0, 2), match='aa'>\n"
     ]
    }
   ],
   "source": [
    "print(re.search('a*','aapytahona'))"
   ]
  },
  {
   "cell_type": "code",
   "execution_count": 261,
   "metadata": {},
   "outputs": [
    {
     "name": "stdout",
     "output_type": "stream",
     "text": [
      "<re.Match object; span=(0, 1), match='1'>\n"
     ]
    }
   ],
   "source": [
    "print(re.search('1','1111223311'))"
   ]
  },
  {
   "cell_type": "code",
   "execution_count": 264,
   "metadata": {},
   "outputs": [
    {
     "name": "stdout",
     "output_type": "stream",
     "text": [
      "['111', '', '1', '', '', '', '', '11', '']\n"
     ]
    }
   ],
   "source": [
    "print(re.findall('1*','11121223311'))"
   ]
  },
  {
   "cell_type": "code",
   "execution_count": 268,
   "metadata": {},
   "outputs": [
    {
     "name": "stdout",
     "output_type": "stream",
     "text": [
      "<re.Match object; span=(0, 3), match='sam'>\n"
     ]
    }
   ],
   "source": [
    "print(re.search('^s.*m$','sam'))"
   ]
  },
  {
   "cell_type": "code",
   "execution_count": 270,
   "metadata": {},
   "outputs": [
    {
     "name": "stdout",
     "output_type": "stream",
     "text": [
      "<re.Match object; span=(0, 5), match='ssssm'>\n"
     ]
    }
   ],
   "source": [
    "print(re.search('^s*m$','ssssm'))"
   ]
  },
  {
   "cell_type": "markdown",
   "metadata": {},
   "source": [
    "#### +\n",
    "      -> 1 or more characters\n",
    "      -> atleast 1"
   ]
  },
  {
   "cell_type": "code",
   "execution_count": 273,
   "metadata": {},
   "outputs": [
    {
     "data": {
      "text/plain": [
       "<re.Match object; span=(7, 12), match='11111'>"
      ]
     },
     "execution_count": 273,
     "metadata": {},
     "output_type": "execute_result"
    }
   ],
   "source": [
    "re.search('1+','22223331111144111')"
   ]
  },
  {
   "cell_type": "code",
   "execution_count": 275,
   "metadata": {},
   "outputs": [
    {
     "data": {
      "text/plain": [
       "<re.Match object; span=(0, 7), match='shdgfdm'>"
      ]
     },
     "execution_count": 275,
     "metadata": {},
     "output_type": "execute_result"
    }
   ],
   "source": [
    "re.search('s.+m','shdgfdm')"
   ]
  },
  {
   "cell_type": "code",
   "execution_count": 281,
   "metadata": {},
   "outputs": [
    {
     "name": "stdout",
     "output_type": "stream",
     "text": [
      "narmada@gmail.com\n",
      "apssdc@gmail.com\n",
      "apssdc123@yahoo.in\n",
      "narmada@apssdc.info\n"
     ]
    }
   ],
   "source": [
    " # write pattren for accepting gmail id\n",
    "emails=['narmada@gmail.com','apssdc@gmail.com','apssdc123@yahoo.in','sghdfgsd@','narmada@apssdc.info']\n",
    "for email in emails:\n",
    "    if re.search('^[a-z0-9]*[@][a-z]*.[a-z]*',email):\n",
    "        print(email)"
   ]
  },
  {
   "cell_type": "code",
   "execution_count": 330,
   "metadata": {},
   "outputs": [
    {
     "data": {
      "text/plain": [
       "954"
      ]
     },
     "execution_count": 330,
     "metadata": {},
     "output_type": "execute_result"
    }
   ],
   "source": [
    "#pattern for to find 3 digit numbers and calculate the sum?\n",
    "s1=\"suma got 100 marks narmada got 300 100 4000 vcvcxb 10 45454 100\"\n",
    "sum(map(int,re.findall('(\\d{3})\\D',s1)))"
   ]
  },
  {
   "cell_type": "code",
   "execution_count": 329,
   "metadata": {},
   "outputs": [
    {
     "data": {
      "text/plain": [
       "['100', '300', '100', '000', '454']"
      ]
     },
     "execution_count": 329,
     "metadata": {},
     "output_type": "execute_result"
    }
   ],
   "source": [
    "re.findall('(\\d{3})\\D',s1)"
   ]
  },
  {
   "cell_type": "code",
   "execution_count": 334,
   "metadata": {},
   "outputs": [
    {
     "name": "stdout",
     "output_type": "stream",
     "text": [
      "600\n"
     ]
    }
   ],
   "source": [
    "a = re.findall('\\d+',s1)\n",
    "b =list(filter(lambda x:len(x)==3,a))\n",
    "print(sum(map(int,b)))"
   ]
  },
  {
   "cell_type": "code",
   "execution_count": 335,
   "metadata": {},
   "outputs": [],
   "source": [
    "import os\n"
   ]
  },
  {
   "cell_type": "code",
   "execution_count": 336,
   "metadata": {},
   "outputs": [
    {
     "data": {
      "text/plain": [
       "'C:\\\\Users\\\\IIIT-rgukt\\\\Desktop\\\\Machine_Learning\\\\Advanced_Python'"
      ]
     },
     "execution_count": 336,
     "metadata": {},
     "output_type": "execute_result"
    }
   ],
   "source": [
    "os.getcwd() #to get current working directory"
   ]
  },
  {
   "cell_type": "code",
   "execution_count": 337,
   "metadata": {},
   "outputs": [
    {
     "data": {
      "text/plain": [
       "['.ipynb_checkpoints',\n",
       " '23-Nov-2019.ipynb',\n",
       " '24-Nov-2019(class and object,regular expressions).ipynb',\n",
       " 'myfun.py',\n",
       " '__pycache__']"
      ]
     },
     "execution_count": 337,
     "metadata": {},
     "output_type": "execute_result"
    }
   ],
   "source": [
    "os.listdir()"
   ]
  },
  {
   "cell_type": "code",
   "execution_count": 338,
   "metadata": {},
   "outputs": [
    {
     "data": {
      "text/plain": [
       "['All Users',\n",
       " 'Default',\n",
       " 'Default User',\n",
       " 'defaultuser0',\n",
       " 'desktop.ini',\n",
       " 'IIIT-rgukt',\n",
       " 'Public']"
      ]
     },
     "execution_count": 338,
     "metadata": {},
     "output_type": "execute_result"
    }
   ],
   "source": [
    "os.listdir('c:/users')# what are folders having given path."
   ]
  },
  {
   "cell_type": "code",
   "execution_count": 340,
   "metadata": {},
   "outputs": [],
   "source": [
    "os.mkdir('apssdc_iiit') # to create a folder"
   ]
  },
  {
   "cell_type": "code",
   "execution_count": 341,
   "metadata": {},
   "outputs": [],
   "source": [
    "os.chdir('D:') # change the directory"
   ]
  },
  {
   "cell_type": "code",
   "execution_count": 343,
   "metadata": {},
   "outputs": [
    {
     "name": "stdout",
     "output_type": "stream",
     "text": [
      "D:\\\n"
     ]
    }
   ],
   "source": [
    "print(os.getcwd())"
   ]
  },
  {
   "cell_type": "code",
   "execution_count": 346,
   "metadata": {},
   "outputs": [
    {
     "data": {
      "text/plain": [
       "['Decimal',\n",
       " 'Fraction',\n",
       " 'StatisticsError',\n",
       " '__all__',\n",
       " '__builtins__',\n",
       " '__cached__',\n",
       " '__doc__',\n",
       " '__file__',\n",
       " '__loader__',\n",
       " '__name__',\n",
       " '__package__',\n",
       " '__spec__',\n",
       " '_coerce',\n",
       " '_convert',\n",
       " '_counts',\n",
       " '_exact_ratio',\n",
       " '_fail_neg',\n",
       " '_find_lteq',\n",
       " '_find_rteq',\n",
       " '_isfinite',\n",
       " '_ss',\n",
       " '_sum',\n",
       " 'bisect_left',\n",
       " 'bisect_right',\n",
       " 'collections',\n",
       " 'groupby',\n",
       " 'harmonic_mean',\n",
       " 'math',\n",
       " 'mean',\n",
       " 'median',\n",
       " 'median_grouped',\n",
       " 'median_high',\n",
       " 'median_low',\n",
       " 'mode',\n",
       " 'numbers',\n",
       " 'pstdev',\n",
       " 'pvariance',\n",
       " 'stdev',\n",
       " 'variance']"
      ]
     },
     "execution_count": 346,
     "metadata": {},
     "output_type": "execute_result"
    }
   ],
   "source": [
    "import statistics as s\n",
    "dir(s)"
   ]
  },
  {
   "cell_type": "code",
   "execution_count": 348,
   "metadata": {},
   "outputs": [
    {
     "data": {
      "text/plain": [
       "3"
      ]
     },
     "execution_count": 348,
     "metadata": {},
     "output_type": "execute_result"
    }
   ],
   "source": [
    "s.mean([1,2,3,4,5]) # nothing average"
   ]
  },
  {
   "cell_type": "code",
   "execution_count": 351,
   "metadata": {},
   "outputs": [
    {
     "data": {
      "text/plain": [
       "25.0"
      ]
     },
     "execution_count": 351,
     "metadata": {},
     "output_type": "execute_result"
    }
   ],
   "source": [
    "s.median([10,20,30,40])\n",
    "#even list element ->"
   ]
  },
  {
   "cell_type": "code",
   "execution_count": 355,
   "metadata": {},
   "outputs": [
    {
     "data": {
      "text/plain": [
       "30"
      ]
     },
     "execution_count": 355,
     "metadata": {},
     "output_type": "execute_result"
    }
   ],
   "source": [
    "s.median_low([10,20,30,50,60])"
   ]
  },
  {
   "cell_type": "code",
   "execution_count": 356,
   "metadata": {},
   "outputs": [
    {
     "data": {
      "text/plain": [
       "50"
      ]
     },
     "execution_count": 356,
     "metadata": {},
     "output_type": "execute_result"
    }
   ],
   "source": [
    "s.median_high([10,20,30,50,60,70])"
   ]
  },
  {
   "cell_type": "code",
   "execution_count": 358,
   "metadata": {},
   "outputs": [],
   "source": [
    "s.mode([])"
   ]
  },
  {
   "cell_type": "code",
   "execution_count": 363,
   "metadata": {},
   "outputs": [
    {
     "name": "stdout",
     "output_type": "stream",
     "text": [
      "[10, 10, 10, 20]\n",
      "[(10, 3), (20, 1)]\n"
     ]
    }
   ],
   "source": [
    "from collections import Counter\n",
    "cnt = Counter([10,20,10,10])\n",
    "print(list(cnt.elements()))\n",
    "print(cnt.most_common())"
   ]
  },
  {
   "cell_type": "code",
   "execution_count": 7,
   "metadata": {},
   "outputs": [
    {
     "ename": "NameError",
     "evalue": "name 'Counter' is not defined",
     "output_type": "error",
     "traceback": [
      "\u001b[1;31m---------------------------------------------------------------------------\u001b[0m",
      "\u001b[1;31mNameError\u001b[0m                                 Traceback (most recent call last)",
      "\u001b[1;32m<ipython-input-7-cdd3bbc6082e>\u001b[0m in \u001b[0;36m<module>\u001b[1;34m\u001b[0m\n\u001b[1;32m----> 1\u001b[1;33m \u001b[0mcnt1\u001b[0m \u001b[1;33m=\u001b[0m \u001b[0mCounter\u001b[0m\u001b[1;33m(\u001b[0m\u001b[1;34m'abcedscsaaaa'\u001b[0m\u001b[1;33m)\u001b[0m\u001b[1;33m\u001b[0m\u001b[1;33m\u001b[0m\u001b[0m\n\u001b[0m\u001b[0;32m      2\u001b[0m \u001b[0mprint\u001b[0m\u001b[1;33m(\u001b[0m\u001b[0mcnt1\u001b[0m\u001b[1;33m.\u001b[0m\u001b[0mmost_common\u001b[0m\u001b[1;33m(\u001b[0m\u001b[1;36m1\u001b[0m\u001b[1;33m)\u001b[0m\u001b[1;33m)\u001b[0m\u001b[1;33m\u001b[0m\u001b[1;33m\u001b[0m\u001b[0m\n\u001b[0;32m      3\u001b[0m \u001b[0mprint\u001b[0m\u001b[1;33m(\u001b[0m\u001b[0mcnt1\u001b[0m\u001b[1;33m.\u001b[0m\u001b[0mmost_common\u001b[0m\u001b[1;33m(\u001b[0m\u001b[1;36m3\u001b[0m\u001b[1;33m)\u001b[0m\u001b[1;33m)\u001b[0m\u001b[1;33m\u001b[0m\u001b[1;33m\u001b[0m\u001b[0m\n",
      "\u001b[1;31mNameError\u001b[0m: name 'Counter' is not defined"
     ]
    }
   ],
   "source": [
    "cnt1 = Counter('abcedscsaaaa')\n",
    "print(cnt1.most_common(1))\n",
    "print(cnt1.most_common(3))"
   ]
  },
  {
   "cell_type": "code",
   "execution_count": 8,
   "metadata": {},
   "outputs": [
    {
     "name": "stdout",
     "output_type": "stream",
     "text": [
      "['ArithmeticError', 'AssertionError', 'AttributeError', 'BaseException', 'BlockingIOError', 'BrokenPipeError', 'BufferError', 'BytesWarning', 'ChildProcessError', 'ConnectionAbortedError', 'ConnectionError', 'ConnectionRefusedError', 'ConnectionResetError', 'DeprecationWarning', 'EOFError', 'Ellipsis', 'EnvironmentError', 'Exception', 'False', 'FileExistsError', 'FileNotFoundError', 'FloatingPointError', 'FutureWarning', 'GeneratorExit', 'IOError', 'ImportError', 'ImportWarning', 'IndentationError', 'IndexError', 'InterruptedError', 'IsADirectoryError', 'KeyError', 'KeyboardInterrupt', 'LookupError', 'MemoryError', 'ModuleNotFoundError', 'NameError', 'None', 'NotADirectoryError', 'NotImplemented', 'NotImplementedError', 'OSError', 'OverflowError', 'PendingDeprecationWarning', 'PermissionError', 'ProcessLookupError', 'RecursionError', 'ReferenceError', 'ResourceWarning', 'RuntimeError', 'RuntimeWarning', 'StopAsyncIteration', 'StopIteration', 'SyntaxError', 'SyntaxWarning', 'SystemError', 'SystemExit', 'TabError', 'TimeoutError', 'True', 'TypeError', 'UnboundLocalError', 'UnicodeDecodeError', 'UnicodeEncodeError', 'UnicodeError', 'UnicodeTranslateError', 'UnicodeWarning', 'UserWarning', 'ValueError', 'Warning', 'WindowsError', 'ZeroDivisionError', '__IPYTHON__', '__build_class__', '__debug__', '__doc__', '__import__', '__loader__', '__name__', '__package__', '__spec__', 'abs', 'all', 'any', 'ascii', 'bin', 'bool', 'breakpoint', 'bytearray', 'bytes', 'callable', 'chr', 'classmethod', 'compile', 'complex', 'copyright', 'credits', 'delattr', 'dict', 'dir', 'display', 'divmod', 'enumerate', 'eval', 'exec', 'filter', 'float', 'format', 'frozenset', 'get_ipython', 'getattr', 'globals', 'hasattr', 'hash', 'help', 'hex', 'id', 'input', 'int', 'isinstance', 'issubclass', 'iter', 'len', 'license', 'list', 'locals', 'map', 'max', 'memoryview', 'min', 'next', 'object', 'oct', 'open', 'ord', 'pow', 'print', 'property', 'range', 'repr', 'reversed', 'round', 'set', 'setattr', 'slice', 'sorted', 'staticmethod', 'str', 'sum', 'super', 'tuple', 'type', 'vars', 'zip']\n"
     ]
    }
   ],
   "source": [
    "print(dir(__builtin__))"
   ]
  },
  {
   "cell_type": "code",
   "execution_count": 2,
   "metadata": {},
   "outputs": [
    {
     "name": "stdout",
     "output_type": "stream",
     "text": [
      "\n",
      "Please wait a moment while I gather a list of all available modules...\n",
      "\n"
     ]
    },
    {
     "name": "stderr",
     "output_type": "stream",
     "text": [
      "C:\\Users\\IIIT-rgukt\\Anaconda3\\lib\\site-packages\\IPython\\kernel\\__init__.py:13: ShimWarning: The `IPython.kernel` package has been deprecated since IPython 4.0.You should import from ipykernel or jupyter_client instead.\n",
      "  \"You should import from ipykernel or jupyter_client instead.\", ShimWarning)\n",
      "WARNING: AstropyDeprecationWarning: astropy.utils.compat.futures is now deprecated - use concurrent.futures instead [astropy.utils.compat.futures]\n",
      "WARNING: The conda.compat module is deprecated and will be removed in a future release.\n",
      "C:\\Users\\IIIT-rgukt\\Anaconda3\\lib\\site-packages\\dask\\config.py:168: YAMLLoadWarning: calling yaml.load() without Loader=... is deprecated, as the default Loader is unsafe. Please read https://msg.pyyaml.org/load for full details.\n",
      "  data = yaml.load(f.read()) or {}\n",
      "C:\\Users\\IIIT-rgukt\\Anaconda3\\lib\\site-packages\\distributed\\config.py:20: YAMLLoadWarning: calling yaml.load() without Loader=... is deprecated, as the default Loader is unsafe. Please read https://msg.pyyaml.org/load for full details.\n",
      "  defaults = yaml.load(f)\n",
      "C:\\Users\\IIIT-rgukt\\Anaconda3\\lib\\site-packages\\nltk\\twitter\\__init__.py:22: UserWarning: The twython library has not been installed. Some functionality from the twitter package will not be available.\n",
      "  \"The twython library has not been installed. \"\n",
      "C:\\Users\\IIIT-rgukt\\Anaconda3\\lib\\site-packages\\skimage\\novice\\__init__.py:103: UserWarning: The `skimage.novice` module was deprecated in version 0.14. It will be removed in 0.16.\n",
      "  warnings.warn(\"The `skimage.novice` module was deprecated in version 0.14. \"\n",
      "C:\\Users\\IIIT-rgukt\\Anaconda3\\lib\\site-packages\\skimage\\viewer\\utils\\core.py:10: UserWarning: Recommended matplotlib backend is `Agg` for full skimage.viewer functionality.\n",
      "  warn(\"Recommended matplotlib backend is `Agg` for full \"\n",
      "C:\\Users\\IIIT-rgukt\\Anaconda3\\lib\\site-packages\\sphinx\\websupport\\__init__.py:25: RemovedInSphinx20Warning: sphinx.websupport module is now provided as sphinxcontrib-websupport. sphinx.websupport will be removed at Sphinx-2.0. Please use the package instead.\n",
      "  RemovedInSphinx20Warning)\n",
      "C:\\Users\\IIIT-rgukt\\Anaconda3\\lib\\site-packages\\qtawesome\\iconic_font.py:276: UserWarning: You need to have a running QApplication to use QtAwesome!\n",
      "  warnings.warn(\"You need to have a running \"\n",
      "C:\\Users\\IIIT-rgukt\\Anaconda3\\lib\\pkgutil.py:107: VisibleDeprecationWarning: zmq.eventloop.minitornado is deprecated in pyzmq 14.0 and will be removed.\n",
      "    Install tornado itself to use zmq with the tornado IOLoop.\n",
      "    \n",
      "  yield from walk_packages(path, info.name+'.', onerror)\n"
     ]
    },
    {
     "name": "stdout",
     "output_type": "stream",
     "text": [
      "Crypto              builtins            mistune             sortedcontainers\n",
      "Cython              bz2                 mkl                 soupsieve\n",
      "IPython             cProfile            mkl_fft             sphinx\n",
      "OpenSSL             calendar            mkl_random          sphinxcontrib\n",
      "PIL                 certifi             mmap                spyder\n",
      "PyQt5               cffi                mmapfile            spyder_breakpoints\n",
      "__future__          cgi                 mmsystem            spyder_io_dcm\n",
      "_abc                cgitb               modulefinder        spyder_io_hdf5\n",
      "_ast                chardet             more_itertools      spyder_kernels\n",
      "_asyncio            chunk               mpmath              spyder_profiler\n",
      "_bisect             click               msgpack             spyder_pylint\n",
      "_blake2             cloudpickle         msilib              sqlalchemy\n",
      "_bootlocale         clyent              msvcrt              sqlite3\n",
      "_bz2                cmath               multipledispatch    sre_compile\n",
      "_cffi_backend       cmd                 multiprocessing     sre_constants\n",
      "_codecs             code                myfun               sre_parse\n",
      "_codecs_cn          codecs              navigator_updater   ssl\n",
      "_codecs_hk          codeop              nbconvert           sspi\n",
      "_codecs_iso2022     collections         nbformat            sspicon\n",
      "_codecs_jp          colorama            netbios             stat\n",
      "_codecs_kr          colorsys            netrc               statistics\n",
      "_codecs_tw          commctrl            networkx            statsmodels\n",
      "_collections        compileall          nltk                storemagic\n",
      "_collections_abc    comtypes            nntplib             string\n",
      "_compat_pickle      concurrent          nose                stringprep\n",
      "_compression        conda               notebook            struct\n",
      "_contextvars        conda_build         nt                  subprocess\n",
      "_csv                conda_env           ntpath              sunau\n",
      "_ctypes             conda_verify        ntsecuritycon       symbol\n",
      "_ctypes_test        configparser        nturl2path          sympy\n",
      "_datetime           contextlib          numba               sympyprinting\n",
      "_decimal            contextlib2         numbers             symtable\n",
      "_dummy_thread       contextvars         numexpr             sys\n",
      "_elementtree        copy                numpy               sysconfig\n",
      "_functools          copyreg             numpydoc            tables\n",
      "_hashlib            crypt               odbc                tabnanny\n",
      "_heapq              cryptography        olefile             tarfile\n",
      "_imp                csv                 opcode              tblib\n",
      "_io                 ctypes              openpyxl            telnetlib\n",
      "_json               curl                operator            tempfile\n",
      "_locale             curses              optparse            terminado\n",
      "_lsprof             cv2                 os                  test\n",
      "_lzma               cwp                 packaging           test_data\n",
      "_markupbase         cycler              pandas              test_path\n",
      "_md5                cython              pandocfilters       test_pycosat\n",
      "_msi                cythonmagic         parser              testpath\n",
      "_multibytecodec     cytoolz             parso               tests\n",
      "_multiprocessing    dask                partd               textwrap\n",
      "_nsis               dataclasses         past                this\n",
      "_opcode             datetime            path                threading\n",
      "_operator           dateutil            pathlib             time\n",
      "_osx_support        dbi                 pathlib2            timeit\n",
      "_overlapped         dbm                 patsy               timer\n",
      "_pickle             dde                 pdb                 tkinter\n",
      "_py_abc             decimal             pep8                tlz\n",
      "_pydecimal          decorator           perfmon             token\n",
      "_pyio               defusedxml          pickle              tokenize\n",
      "_pylief             difflib             pickleshare         toolz\n",
      "_pyrsistent_version dis                 pickletools         tornado\n",
      "_pytest             distributed         pip                 tqdm\n",
      "_queue              distutils           pipes               trace\n",
      "_random             doctest             pkg_resources       traceback\n",
      "_sha1               docutils            pkginfo             tracemalloc\n",
      "_sha256             dummy_threading     pkgutil             traitlets\n",
      "_sha3               easy_install        platform            tty\n",
      "_sha512             email               plistlib            turtle\n",
      "_signal             encodings           pluggy              turtledemo\n",
      "_sitebuiltins       ensurepip           ply                 types\n",
      "_socket             entrypoints         poplib              typing\n",
      "_sqlite3            enum                posixpath           unicodecsv\n",
      "_sre                errno               pprint              unicodedata\n",
      "_ssl                et_xmlfile          profile             unittest\n",
      "_stat               fastcache           prometheus_client   urllib\n",
      "_string             faulthandler        prompt_toolkit      urllib3\n",
      "_strptime           filecmp             pstats              uu\n",
      "_struct             fileinput           psutil              uuid\n",
      "_symtable           filelock            pty                 venv\n",
      "_system_path        flask               pvectorc            warnings\n",
      "_testbuffer         fnmatch             py                  wave\n",
      "_testcapi           formatter           py_compile          wcwidth\n",
      "_testconsole        fractions           pyclbr              weakref\n",
      "_testimportmultiple ftplib              pycodestyle         webbrowser\n",
      "_testmultiphase     functools           pycosat             webencodings\n",
      "_thread             future              pycparser           werkzeug\n",
      "_threading_local    gc                  pycurl              wheel\n",
      "_tkinter            genericpath         pydoc               widgetsnbextension\n",
      "_tracemalloc        getopt              pydoc_data          win2kras\n",
      "_warnings           getpass             pyexpat             win32api\n",
      "_weakref            gettext             pyflakes            win32clipboard\n",
      "_weakrefset         gevent              pygments            win32com\n",
      "_win32sysloader     glob                pylab               win32con\n",
      "_winapi             glob2               pylint              win32console\n",
      "_winxptheme         greenlet            pyodbc              win32cred\n",
      "_yaml               gzip                pyparsing           win32crypt\n",
      "abc                 h5py                pyreadline          win32cryptcon\n",
      "adodbapi            hashlib             pyrsistent          win32event\n",
      "afxres              heapdict            pytest              win32evtlog\n",
      "aifc                heapq               pytest_arraydiff    win32evtlogutil\n",
      "alabaster           hmac                pytest_doctestplus  win32file\n",
      "anaconda_navigator  html                pytest_openfiles    win32gui\n",
      "anaconda_project    html5lib            pytest_remotedata   win32gui_struct\n",
      "antigravity         http                pythoncom           win32help\n",
      "argparse            idlelib             pytz                win32inet\n",
      "array               idna                pywin               win32inetcon\n",
      "asn1crypto          imageio             pywin32_testutil    win32job\n",
      "ast                 imagesize           pywintypes          win32lz\n",
      "astroid             imaplib             pywt                win32net\n",
      "astropy             imghdr              pyximport           win32netcon\n",
      "asynchat            imp                 qtawesome           win32pdh\n",
      "asyncio             importlib           qtconsole           win32pdhquery\n",
      "asyncore            importlib_metadata  qtpy                win32pdhutil\n",
      "atexit              inspect             queue               win32pipe\n",
      "atomicwrites        io                  quopri              win32print\n",
      "attr                ipaddress           random              win32process\n",
      "audioop             ipykernel           rasutil             win32profile\n",
      "autoreload          ipykernel_launcher  re                  win32ras\n",
      "babel               ipython_genutils    readline            win32rcparser\n"
     ]
    },
    {
     "name": "stdout",
     "output_type": "stream",
     "text": [
      "backcall            ipywidgets          regcheck            win32security\n",
      "backports           isapi               regutil             win32service\n",
      "base64              isort               reprlib             win32serviceutil\n",
      "bdb                 isympy              requests            win32timezone\n",
      "binascii            itertools           rlcompleter         win32trace\n",
      "binhex              itsdangerous        rmagic              win32traceutil\n",
      "binstar_client      jdcal               rope                win32transaction\n",
      "bisect              jedi                ruamel_yaml         win32ts\n",
      "bitarray            jinja2              run                 win32ui\n",
      "bkcharts            json                runpy               win32uiole\n",
      "bleach              jsonschema          sched               win32verstamp\n",
      "bokeh               jupyter             scipy               win32wnet\n",
      "boto                jupyter_client      scripts             win_inet_pton\n",
      "bottleneck          jupyter_console     seaborn             win_unicode_console\n",
      "brain_argparse      jupyter_core        secrets             wincertstore\n",
      "brain_attrs         jupyterlab          select              winerror\n",
      "brain_builtin_inference jupyterlab_server   selectors           winioctlcon\n",
      "brain_collections   keyring             send2trash          winnt\n",
      "brain_curses        keyword             servicemanager      winperf\n",
      "brain_dateutil      kiwisolver          setuptools          winpty\n",
      "brain_fstrings      lazy_object_proxy   shelve              winreg\n",
      "brain_functools     lib2to3             shlex               winsound\n",
      "brain_gi            libarchive          shutil              winxpgui\n",
      "brain_hashlib       libfuturize         signal              winxptheme\n",
      "brain_http          libpasteurize       simplegeneric       wrapt\n",
      "brain_io            lief                singledispatch      wsgiref\n",
      "brain_mechanize     linecache           singledispatch_helpers xdrlib\n",
      "brain_multiprocessing llvmlite            sip                 xlrd\n",
      "brain_namedtuple_enum locale              sipconfig           xlsxwriter\n",
      "brain_nose          locket              sipdistutils        xlwings\n",
      "brain_numpy         logging             site                xlwt\n",
      "brain_pkg_resources lxml                six                 xml\n",
      "brain_pytest        lzma                skimage             xmlrpc\n",
      "brain_qt            macpath             sklearn             xxsubtype\n",
      "brain_random        mailbox             smtpd               yaml\n",
      "brain_re            mailcap             smtplib             zict\n",
      "brain_six           markupsafe          sndhdr              zipapp\n",
      "brain_ssl           marshal             snowballstemmer     zipfile\n",
      "brain_subprocess    math                socket              zipimport\n",
      "brain_threading     matplotlib          socketserver        zipp\n",
      "brain_typing        mccabe              socks               zlib\n",
      "brain_uuid          menuinst            sockshandler        zmq\n",
      "bs4                 mimetypes           sortedcollections   \n",
      "\n",
      "Enter any module name to get more help.  Or, type \"modules spam\" to search\n",
      "for modules whose name or summary contain the string \"spam\".\n",
      "\n",
      "DEBUG:matplotlib.pyplot:Loaded backend module://ipykernel.pylab.backend_inline version unknown.\n"
     ]
    }
   ],
   "source": [
    "help('modules')"
   ]
  },
  {
   "cell_type": "code",
   "execution_count": 12,
   "metadata": {},
   "outputs": [
    {
     "data": {
      "text/plain": [
       "'3.7.3 (default, Mar 27 2019, 17:13:21) [MSC v.1915 64 bit (AMD64)]'"
      ]
     },
     "execution_count": 12,
     "metadata": {},
     "output_type": "execute_result"
    }
   ],
   "source": [
    "import sys\n",
    "sys.path\n",
    "sys.version"
   ]
  },
  {
   "cell_type": "code",
   "execution_count": null,
   "metadata": {},
   "outputs": [],
   "source": []
  },
  {
   "cell_type": "code",
   "execution_count": null,
   "metadata": {},
   "outputs": [],
   "source": []
  }
 ],
 "metadata": {
  "kernelspec": {
   "display_name": "Python 3",
   "language": "python",
   "name": "python3"
  },
  "language_info": {
   "codemirror_mode": {
    "name": "ipython",
    "version": 3
   },
   "file_extension": ".py",
   "mimetype": "text/x-python",
   "name": "python",
   "nbconvert_exporter": "python",
   "pygments_lexer": "ipython3",
   "version": "3.7.3"
  }
 },
 "nbformat": 4,
 "nbformat_minor": 2
}
